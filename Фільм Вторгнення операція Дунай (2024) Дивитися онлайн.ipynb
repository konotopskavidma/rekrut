{
  "nbformat": 4,
  "nbformat_minor": 0,
  "metadata": {
    "colab": {
      "provenance": [],
      "authorship_tag": "ABX9TyNk/Ky06DfLFN1pwHumfWSc",
      "include_colab_link": true
    },
    "kernelspec": {
      "name": "python3",
      "display_name": "Python 3"
    },
    "language_info": {
      "name": "python"
    }
  },
  "cells": [
    {
      "cell_type": "markdown",
      "metadata": {
        "id": "view-in-github",
        "colab_type": "text"
      },
      "source": [
        "<a href=\"https://colab.research.google.com/github/konotopskavidma/rekrut/blob/main/%D0%A4%D1%96%D0%BB%D1%8C%D0%BC%20%D0%92%D1%82%D0%BE%D1%80%D0%B3%D0%BD%D0%B5%D0%BD%D0%BD%D1%8F%20%D0%BE%D0%BF%D0%B5%D1%80%D0%B0%D1%86%D1%96%D1%8F%20%D0%94%D1%83%D0%BD%D0%B0%D0%B9%20(2024)%20%D0%94%D0%B8%D0%B2%D0%B8%D1%82%D0%B8%D1%81%D1%8F%20%D0%BE%D0%BD%D0%BB%D0%B0%D0%B9%D0%BD.ipynb\" target=\"_parent\"><img src=\"https://colab.research.google.com/assets/colab-badge.svg\" alt=\"Open In Colab\"/></a>"
      ]
    },
    {
      "cell_type": "code",
      "execution_count": null,
      "metadata": {
        "id": "2HpTakjEt3EK"
      },
      "outputs": [],
      "source": []
    },
    {
      "cell_type": "markdown",
      "source": [
        "Фільм Вторгнення операція Дунай (2024) Дивитися онлайн\n",
        "<p><a href=\"https://k6njm.5vg9.shop/l/2InBBPMrO\" target=\"_blank\" rel=\"noopener noreferrer\"><img src=\"https://i.imgur.com/2skYgg1.gif?top-gun-maverick\" alt=\"Ver ONE PIECE FILM RED Online\" /></a></p>\n",
        "<p>&nbsp;</p>"
      ],
      "metadata": {
        "id": "oYcagsRLuIsn"
      }
    }
  ]
}